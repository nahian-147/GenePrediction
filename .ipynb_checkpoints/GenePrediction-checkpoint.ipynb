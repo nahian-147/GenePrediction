{
 "cells": [
  {
   "cell_type": "code",
   "execution_count": 1,
   "id": "ff380e00-adb6-47b7-8f30-f6fb431603bb",
   "metadata": {},
   "outputs": [],
   "source": [
    "import numpy as np\n",
    "import pandas as pd\n",
    "from Bio.Seq import Seq\n",
    "from Bio import SeqIO"
   ]
  },
  {
   "cell_type": "code",
   "execution_count": 2,
   "id": "60b6f5b2-ea54-4bfa-9b98-e192e05a1088",
   "metadata": {},
   "outputs": [],
   "source": [
    "record_iterator = SeqIO.parse(\"NZ_GG770409.fna\", \"fasta\")"
   ]
  },
  {
   "cell_type": "code",
   "execution_count": 3,
   "id": "62ba7ca6-b2c7-4321-83b9-00c32459f645",
   "metadata": {},
   "outputs": [],
   "source": [
    "record1 = next(record_iterator)"
   ]
  },
  {
   "cell_type": "code",
   "execution_count": 4,
   "id": "f1b9b123-1bd8-4de0-aec4-3dbc3f026ae5",
   "metadata": {},
   "outputs": [
    {
     "name": "stdout",
     "output_type": "stream",
     "text": [
      "ID: gi|306477407|ref|NZ_GG770409.1|\n",
      "Name: gi|306477407|ref|NZ_GG770409.1|\n",
      "Description: gi|306477407|ref|NZ_GG770409.1| Achromobacter piechaudii ATCC 43553 genomic scaffold SCAFFOLD1, whole genome shotgun sequence\n",
      "Number of features: 0\n",
      "Seq('TCGCGCGTAGGACACATCGTATTTCGACAGCTGCTCGGCCAGGTCGGGTTCGAC...TGG')\n"
     ]
    }
   ],
   "source": [
    "print(record1)"
   ]
  },
  {
   "cell_type": "code",
   "execution_count": null,
   "id": "0a3a5f87-719e-4566-86fb-6393e3b0d59b",
   "metadata": {},
   "outputs": [],
   "source": []
  }
 ],
 "metadata": {
  "kernelspec": {
   "display_name": "Python 3",
   "language": "python",
   "name": "python3"
  },
  "language_info": {
   "codemirror_mode": {
    "name": "ipython",
    "version": 3
   },
   "file_extension": ".py",
   "mimetype": "text/x-python",
   "name": "python",
   "nbconvert_exporter": "python",
   "pygments_lexer": "ipython3",
   "version": "3.8.10"
  }
 },
 "nbformat": 4,
 "nbformat_minor": 5
}
